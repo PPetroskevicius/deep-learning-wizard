{
 "cells": [
  {
   "cell_type": "markdown",
   "id": "711dca43-1c6d-4c0c-8888-b7cdcbcbdf3f",
   "metadata": {},
   "source": [
    "# RAG Introduction"
   ]
  },
  {
   "cell_type": "markdown",
   "id": "9165b3c9-3dc4-49c2-aad5-a68b91a99b25",
   "metadata": {},
   "source": [
    "In this tutorial, we will cover the basics of RAG."
   ]
  },
  {
   "cell_type": "markdown",
   "id": "4284856a-5225-4ac3-a86a-a98066bab7c9",
   "metadata": {},
   "source": [
    "## Environment Setup"
   ]
  },
  {
   "cell_type": "markdown",
   "id": "6906cb0d-e59f-4594-b1d7-cbd4cb8e301f",
   "metadata": {},
   "source": [
    "Follow our [tutorial on Apptainer](https://www.deeplearningwizard.com/language_model/containers/hpc_containers_apptainer/) to get started. Once you have followed the tutorial and you completed the [Ollama, LlamaIndex and Gemma:7b](https://www.deeplearningwizard.com/language_model/containers/hpc_containers_apptainer/#ollama-gemma-workload section), you will be able to run `jupyter lab` in a new window to access and run this notebook.\n",
    "\n",
    "!!! info  \"Directory Guide\"\n",
    "\n",
    "    When you shell into the Apptainer `.sif` container, you will need to navigate the directory as you normally would into the Deep Learning Wizard repository that you cloned, requiring you to `cd ..` to go back a few directories and finally reaching the right folder. "
   ]
  },
  {
   "cell_type": "markdown",
   "id": "52c66161-2a05-436d-958d-bd0471fb2d24",
   "metadata": {},
   "source": [
    "## Overall Explainer"
   ]
  },
  {
   "cell_type": "code",
   "execution_count": null,
   "id": "7af0a79e-8441-493b-9995-edba87d107cd",
   "metadata": {},
   "outputs": [],
   "source": []
  },
  {
   "cell_type": "code",
   "execution_count": null,
   "id": "88b0eb00-df4a-4e91-bf5f-bc106f6eb836",
   "metadata": {},
   "outputs": [],
   "source": []
  },
  {
   "cell_type": "code",
   "execution_count": null,
   "id": "08282142-d866-4f87-9240-88790968972a",
   "metadata": {},
   "outputs": [],
   "source": []
  },
  {
   "cell_type": "code",
   "execution_count": null,
   "id": "140cf6cd-ff57-43f0-b249-9c51802d3069",
   "metadata": {},
   "outputs": [],
   "source": []
  },
  {
   "cell_type": "code",
   "execution_count": null,
   "id": "ae58f68b-194f-4fa9-b851-73429593ab48",
   "metadata": {},
   "outputs": [],
   "source": []
  },
  {
   "cell_type": "code",
   "execution_count": null,
   "id": "551323fe-770f-4c15-a6ea-033eac3eb916",
   "metadata": {},
   "outputs": [],
   "source": []
  }
 ],
 "metadata": {
  "kernelspec": {
   "display_name": "Python 3 (ipykernel)",
   "language": "python",
   "name": "python3"
  },
  "language_info": {
   "codemirror_mode": {
    "name": "ipython",
    "version": 3
   },
   "file_extension": ".py",
   "mimetype": "text/x-python",
   "name": "python",
   "nbconvert_exporter": "python",
   "pygments_lexer": "ipython3",
   "version": "3.11.5"
  }
 },
 "nbformat": 4,
 "nbformat_minor": 5
}
